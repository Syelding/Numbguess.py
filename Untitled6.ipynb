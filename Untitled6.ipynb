{
  "nbformat": 4,
  "nbformat_minor": 0,
  "metadata": {
    "colab": {
      "provenance": [],
      "authorship_tag": "ABX9TyOafQpI8DEPhqcltL7eoyPp",
      "include_colab_link": true
    },
    "kernelspec": {
      "name": "python3",
      "display_name": "Python 3"
    },
    "language_info": {
      "name": "python"
    }
  },
  "cells": [
    {
      "cell_type": "markdown",
      "metadata": {
        "id": "view-in-github",
        "colab_type": "text"
      },
      "source": [
        "<a href=\"https://colab.research.google.com/github/Syelding/Numbguess.py/blob/main/Untitled6.ipynb\" target=\"_parent\"><img src=\"https://colab.research.google.com/assets/colab-badge.svg\" alt=\"Open In Colab\"/></a>"
      ]
    },
    {
      "cell_type": "markdown",
      "source": [
        "##Number Guessing Game\n"
      ],
      "metadata": {
        "id": "YQimNeDq_BYi"
      }
    },
    {
      "cell_type": "code",
      "source": [
        "import random\n",
        "import math"
      ],
      "metadata": {
        "id": "XT0F25J8_Gt6"
      },
      "execution_count": 1,
      "outputs": []
    },
    {
      "cell_type": "code",
      "source": [
        "# Taking Inputs\n",
        "lower = int(input(\"Enter Lower bound:- \"))\n",
        " \n",
        "# Taking Inputs\n",
        "upper = int(input(\"Enter Upper bound:- \"))\n",
        " \n",
        "# generating random number between\n",
        "# the lower and upper\n",
        "x = random.randint(lower, upper)\n",
        "print(\"\\n\\tYou've only \",\n",
        "       round(math.log(upper - lower + 1, 2)),\n",
        "      \" chances to guess the integer!\\n\")\n",
        " \n",
        "# Initializing the number of guesses.\n",
        "count = 0\n",
        " \n",
        "# for calculation of minimum number of\n",
        "# guesses depends upon range\n",
        "while count < math.log(upper - lower + 1, 2):\n",
        "    count += 1\n",
        " \n",
        "    # taking guessing number as input\n",
        "    guess = int(input(\"Guess a number:- \"))\n",
        " \n",
        "    # Condition testing\n",
        "    if x == guess:\n",
        "        print(\"Congratulations you did it in \",\n",
        "              count, \" try\")\n",
        "        # Once guessed, loop will break\n",
        "        break\n",
        "    elif x > guess:\n",
        "        print(\"You guessed too small!\")\n",
        "    elif x < guess:\n",
        "        print(\"You Guessed too high!\")\n",
        " \n",
        "# If Guessing is more than required guesses,\n",
        "# shows this output.\n",
        "if count >= math.log(upper - lower + 1, 2):\n",
        "    print(\"\\nThe number is %d\" % x)\n",
        "    print(\"\\tBetter Luck Next time!\")\n",
        "\n",
        "\n",
        "\n",
        "\n"
      ],
      "metadata": {
        "colab": {
          "base_uri": "https://localhost:8080/"
        },
        "id": "29CgnPU__Puy",
        "outputId": "9a4eba7b-3541-43fe-fc97-87c4e5237404"
      },
      "execution_count": 4,
      "outputs": [
        {
          "output_type": "stream",
          "name": "stdout",
          "text": [
            "Enter Lower bound:- 2\n",
            "Enter Upper bound:- 5\n",
            "\n",
            "\tYou've only  2  chances to guess the integer!\n",
            "\n",
            "Guess a number:- 8\n",
            "You Guessed too high!\n",
            "Guess a number:- 7\n",
            "You Guessed too high!\n",
            "\n",
            "The number is 3\n",
            "\tBetter Luck Next time!\n"
          ]
        }
      ]
    }
  ]
}